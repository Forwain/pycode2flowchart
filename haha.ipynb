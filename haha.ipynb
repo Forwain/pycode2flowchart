{
 "cells": [
  {
   "cell_type": "code",
   "execution_count": 3,
   "metadata": {},
   "outputs": [],
   "source": [
    "import ast\n",
    "import astpretty # 让ast的输出好看一点"
   ]
  },
  {
   "cell_type": "code",
   "execution_count": 4,
   "metadata": {},
   "outputs": [
    {
     "name": "stdout",
     "output_type": "stream",
     "text": [
      "def foo():\n",
      "    a = 1\n",
      "    if 1:\n",
      "        2\n",
      "    else:\n",
      "        3\n",
      "        \n",
      "Module(\n",
      "    body=[\n",
      "        FunctionDef(\n",
      "            lineno=1,\n",
      "            col_offset=0,\n",
      "            end_lineno=6,\n",
      "            end_col_offset=9,\n",
      "            name='foo',\n",
      "            args=arguments(posonlyargs=[], args=[], vararg=None, kwonlyargs=[], kw_defaults=[], kwarg=None, defaults=[]),\n",
      "            body=[\n",
      "                Assign(\n",
      "                    lineno=2,\n",
      "                    col_offset=4,\n",
      "                    end_lineno=2,\n",
      "                    end_col_offset=9,\n",
      "                    targets=[Name(lineno=2, col_offset=4, end_lineno=2, end_col_offset=5, id='a', ctx=Store())],\n",
      "                    value=Constant(lineno=2, col_offset=8, end_lineno=2, end_col_offset=9, value=1, kind=None),\n",
      "                    type_comment=None,\n",
      "                ),\n",
      "                If(\n",
      "                    lineno=3,\n",
      "                    col_offset=4,\n",
      "                    end_lineno=6,\n",
      "                    end_col_offset=9,\n",
      "                    test=Constant(lineno=3, col_offset=7, end_lineno=3, end_col_offset=8, value=1, kind=None),\n",
      "                    body=[\n",
      "                        Expr(\n",
      "                            lineno=4,\n",
      "                            col_offset=8,\n",
      "                            end_lineno=4,\n",
      "                            end_col_offset=9,\n",
      "                            value=Constant(lineno=4, col_offset=8, end_lineno=4, end_col_offset=9, value=2, kind=None),\n",
      "                        ),\n",
      "                    ],\n",
      "                    orelse=[\n",
      "                        Expr(\n",
      "                            lineno=6,\n",
      "                            col_offset=8,\n",
      "                            end_lineno=6,\n",
      "                            end_col_offset=9,\n",
      "                            value=Constant(lineno=6, col_offset=8, end_lineno=6, end_col_offset=9, value=3, kind=None),\n",
      "                        ),\n",
      "                    ],\n",
      "                ),\n",
      "            ],\n",
      "            decorator_list=[],\n",
      "            returns=None,\n",
      "            type_comment=None,\n",
      "        ),\n",
      "    ],\n",
      "    type_ignores=[],\n",
      ")\n"
     ]
    }
   ],
   "source": [
    "with open('./sample.py', 'r') as f:\n",
    "    pycode = f.read()\n",
    "    print(pycode)\n",
    "    astnode = ast.parse(pycode)\n",
    "    astpretty.pprint(astnode)"
   ]
  },
  {
   "cell_type": "code",
   "execution_count": null,
   "metadata": {},
   "outputs": [],
   "source": []
  },
  {
   "cell_type": "code",
   "execution_count": null,
   "metadata": {},
   "outputs": [],
   "source": []
  }
 ],
 "metadata": {
  "interpreter": {
   "hash": "0e6bf71908efc29258366baa44405b33ca5f3df0b86e008d91aa7ad3fb32f519"
  },
  "kernelspec": {
   "display_name": "Python 3.8.12 ('py38_flask')",
   "language": "python",
   "name": "python3"
  },
  "language_info": {
   "codemirror_mode": {
    "name": "ipython",
    "version": 3
   },
   "file_extension": ".py",
   "mimetype": "text/x-python",
   "name": "python",
   "nbconvert_exporter": "python",
   "pygments_lexer": "ipython3",
   "version": "3.8.12"
  },
  "orig_nbformat": 4
 },
 "nbformat": 4,
 "nbformat_minor": 2
}
